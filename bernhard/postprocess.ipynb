{
 "cells": [
  {
   "cell_type": "code",
   "execution_count": null,
   "metadata": {},
   "outputs": [],
   "source": [
    "import pandas as pd\n",
    "import pandas as pd\n",
    "import seaborn as sns\n",
    "import matplotlib.pyplot as plt\n",
    "\n",
    "df = pd.read_csv('submission.csv')\n",
    "df"
   ]
  },
  {
   "cell_type": "code",
   "execution_count": null,
   "metadata": {},
   "outputs": [],
   "source": [
    "# Erstellen der Subplots\n",
    "parts = 16\n",
    "teil_groesse = len(df) // parts\n",
    "fig, axes = plt.subplots(parts, 1, figsize=(20, 5*parts))  # 8 Reihen, 1 Spalte\n",
    "\n",
    "for i in range(parts):\n",
    "    # Auswahl des entsprechenden Teils des DataFrame\n",
    "    teil_df = df.iloc[i * teil_groesse:(i + 1) * teil_groesse]\n",
    "    \n",
    "    # Erstellen des Balkendiagramms für den aktuellen Teil\n",
    "    axes[i].bar(teil_df['id'], teil_df['anomaly'], width=1.0)\n",
    "    axes[i].set_title(f'Anomalie-Verteilung Teil {i+1}')\n",
    "    axes[i].set_xlabel('ID')\n",
    "    axes[i].set_ylabel('Anomalie (1 oder 0)')\n",
    "    axes[i].set_xlim(i * teil_groesse, (i + 1) * teil_groesse)\n",
    "\n",
    "# Anpassung des Layouts\n",
    "plt.tight_layout()\n",
    "\n",
    "# Anzeigen der Plots\n",
    "plt.show()"
   ]
  },
  {
   "cell_type": "code",
   "execution_count": null,
   "metadata": {},
   "outputs": [],
   "source": [
    "\n",
    "# Dein DataFrame\n",
    "# data = {\n",
    "#     'id': [15334, 15335, 15336, 15337, 15338, 15339, 15340, 15341, 15342, 15343, 15344, 15345, 15346, 15347, 15348, 15349, 15350, 15351],\n",
    "#     'anomaly': [1, 1, 1, 1, 0, 0, 0, 0, 0, 1, 0, 1, 1, 0, 0, 0, 1, 1]\n",
    "# }\n",
    "# df = pd.DataFrame(data)\n",
    "\n",
    "def fill_anomalies(df, window_size=2, threshold=2):\n",
    "    count = 0\n",
    "    for index, row in df.iterrows():\n",
    "        if row['anomaly'] == 0:\n",
    "            start_index = max(index - window_size, 0)\n",
    "            end_index = min(index + window_size + 1, len(df))\n",
    "            window = df['anomaly'][start_index:end_index]\n",
    "            # print(window)\n",
    "            \n",
    "            # Prüfe, ob mindestens eine '1' im Bereich vor und nach der '0' ist\n",
    "            if 1 in df['anomaly'][start_index:index].values and 1 in df['anomaly'][index + 1:end_index].values:\n",
    "                window = df['anomaly'][start_index:end_index]\n",
    "                if window.sum() >= threshold:\n",
    "                    df.at[index, 'anomaly'] = 1\n",
    "                    count += 1\n",
    "    print('Gefunden:', count)\n",
    "\n",
    "    return df\n",
    "\n",
    "# Anwenden der Funktion\n",
    "df_filled = fill_anomalies(df)\n",
    "df_filled\n"
   ]
  },
  {
   "cell_type": "code",
   "execution_count": null,
   "metadata": {},
   "outputs": [],
   "source": [
    "# Erstellen der Subplots\n",
    "parts = 16\n",
    "teil_groesse = len(df_filled) // parts\n",
    "fig, axes = plt.subplots(parts, 1, figsize=(20, 5*parts))  # 8 Reihen, 1 Spalte\n",
    "\n",
    "for i in range(parts):\n",
    "    # Auswahl des entsprechenden Teils des DataFrame\n",
    "    teil_df = df_filled.iloc[i * teil_groesse:(i + 1) * teil_groesse]\n",
    "    \n",
    "    # Erstellen des Balkendiagramms für den aktuellen Teil\n",
    "    axes[i].bar(teil_df['id'], teil_df['anomaly'], width=1.0)\n",
    "    axes[i].set_title(f'Anomalie-Verteilung Teil {i+1}')\n",
    "    axes[i].set_xlabel('ID')\n",
    "    axes[i].set_ylabel('Anomalie (1 oder 0)')\n",
    "    axes[i].set_xlim(i * teil_groesse, (i + 1) * teil_groesse)\n",
    "\n",
    "# Anpassung des Layouts\n",
    "plt.tight_layout()\n",
    "\n",
    "# Anzeigen der Plots\n",
    "plt.show()"
   ]
  },
  {
   "cell_type": "code",
   "execution_count": null,
   "metadata": {},
   "outputs": [],
   "source": [
    "df_filled.to_csv('submission_post.csv', index=False)"
   ]
  }
 ],
 "metadata": {
  "kernelspec": {
   "display_name": "Ai Serving Grid Stability",
   "language": "python",
   "name": "ai-serving-grid-stab"
  },
  "language_info": {
   "codemirror_mode": {
    "name": "ipython",
    "version": 3
   },
   "file_extension": ".py",
   "mimetype": "text/x-python",
   "name": "python",
   "nbconvert_exporter": "python",
   "pygments_lexer": "ipython3",
   "version": "3.9.1"
  }
 },
 "nbformat": 4,
 "nbformat_minor": 2
}
