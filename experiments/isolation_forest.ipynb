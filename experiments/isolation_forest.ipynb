{
 "cells": [
  {
   "cell_type": "code",
   "execution_count": null,
   "metadata": {},
   "outputs": [],
   "source": [
    "import sys\n",
    "import os\n",
    "\n",
    "import pandas as pd\n",
    "from sklearn.ensemble import IsolationForest\n",
    "from sklearn.preprocessing import StandardScaler\n",
    "\n",
    "sys.path.append(os.path.abspath('../classes/'))\n",
    "from feature_factory import FeatureFactory"
   ]
  },
  {
   "cell_type": "code",
   "execution_count": null,
   "metadata": {},
   "outputs": [],
   "source": [
    "# Trainingsdaten & Testdaten laden\n",
    "train_df = pd.read_csv('../data/train.csv')\n",
    "test_df = pd.read_csv('../data/test.csv')"
   ]
  },
  {
   "cell_type": "code",
   "execution_count": null,
   "metadata": {},
   "outputs": [],
   "source": [
    "# Beispiel für die Verwendung FeatureFactory\n",
    "factory = FeatureFactory(train_df, test_df)\n",
    "\n",
    "factory.add_time_features()\n",
    "factory.add_rolling_features(window_size=3)\n",
    "factory.add_ratio_and_diff_features()\n",
    "factory.add_aFRR_activation_request_ratio()\n",
    "factory.add_FRCE_LFCInput_difference()\n",
    "factory.add_participation_state()\n",
    "factory.add_demand_FRCE_interaction()\n",
    "\n",
    "factory.train_data.columns"
   ]
  },
  {
   "cell_type": "code",
   "execution_count": null,
   "metadata": {},
   "outputs": [],
   "source": [
    "# Features\n",
    "# New features beginn with 'day', ...\n",
    "features = ['Demand', 'correction', 'correctedDemand',\n",
    "       'FRCE', 'controlBandPos', 'controlBandNeg', 'LFCInput',\n",
    "       'aFRRactivation', 'aFRRrequest', 'participationCMO', 'participationIN',\n",
    "       'correctionEcho', 'BandLimitedCorrectedDemand', 'controlArea', 'hour',\n",
    "       'day', 'weekday', 'month', 'Demand_RollingMean', 'Demand_RollingStd',\n",
    "       'Demand_CorrectedDemand_Ratio', 'Demand_CorrectedDemand_Diff',\n",
    "       'aFRR_Activation_Request_Ratio', 'FRCE_LFCInput_Diff',\n",
    "       'Participation_State', 'Demand_FRCE_Interaction'] \n",
    "X_train = factory.train_data[features]\n",
    "X_test = factory.test_data[features]"
   ]
  },
  {
   "cell_type": "code",
   "execution_count": null,
   "metadata": {},
   "outputs": [],
   "source": [
    "X_train.isna().sum()          "
   ]
  },
  {
   "cell_type": "code",
   "execution_count": null,
   "metadata": {},
   "outputs": [],
   "source": [
    "# Scaler\n",
    "scaler = StandardScaler()\n",
    "X_train_normalized = scaler.fit_transform(X_train)\n",
    "X_test_normalized = scaler.transform(X_test)"
   ]
  },
  {
   "cell_type": "code",
   "execution_count": null,
   "metadata": {},
   "outputs": [],
   "source": [
    "# Isolation Forest Modell initialisieren und trainieren\n",
    "model = IsolationForest(n_estimators=100, contamination='auto', random_state=42)\n",
    "model.fit(X_train_normalized)"
   ]
  },
  {
   "cell_type": "code",
   "execution_count": null,
   "metadata": {},
   "outputs": [],
   "source": [
    "# Anomalien auf Testdaten vorhersagen und anzeigen\n",
    "test_df['anomaly'] = model.predict(X_test_normalized)\n",
    "print(test_df[['Datum_Uhrzeit_CET', 'Demand', 'correctedDemand', 'anomaly']].head())"
   ]
  },
  {
   "cell_type": "code",
   "execution_count": null,
   "metadata": {},
   "outputs": [],
   "source": [
    "# Konvertiere Anomalie-Vorhersagen: -1 (Anomalie) wird zu 1 und 1 (normal) wird zu 0\n",
    "test_df['anomaly'] = test_df['anomaly'].apply(lambda x: 1 if x == -1 else 0)\n",
    "submission_df = test_df[['id', 'anomaly']]\n",
    "submission_df.to_csv('submission.csv', index=False)"
   ]
  }
 ],
 "metadata": {
  "kernelspec": {
   "display_name": "Ai Serving Grid Stability",
   "language": "python",
   "name": "ai-serving-grid-stab"
  },
  "language_info": {
   "codemirror_mode": {
    "name": "ipython",
    "version": 3
   },
   "file_extension": ".py",
   "mimetype": "text/x-python",
   "name": "python",
   "nbconvert_exporter": "python",
   "pygments_lexer": "ipython3",
   "version": "3.10.10"
  }
 },
 "nbformat": 4,
 "nbformat_minor": 2
}
