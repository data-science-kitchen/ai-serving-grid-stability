{
 "cells": [
  {
   "cell_type": "code",
   "execution_count": null,
   "metadata": {},
   "outputs": [],
   "source": [
    "import pandas as pd\n",
    "import pandas as pd\n",
    "import seaborn as sns\n",
    "import matplotlib.pyplot as plt\n",
    "\n",
    "df = pd.read_csv('submission.csv')\n",
    "df"
   ]
  },
  {
   "cell_type": "code",
   "execution_count": null,
   "metadata": {},
   "outputs": [],
   "source": [
    "def fill_anomalies(df, window_size=4, threshold=2, loops=2):\n",
    "    count = 0\n",
    "    for l in range(loops):\n",
    "        for index, row in df.iterrows():\n",
    "            if row['anomaly'] == 0:\n",
    "                start_index = max(index - window_size, 0)\n",
    "                end_index = min(index + window_size + 1, len(df))\n",
    "                window = df['anomaly'][start_index:end_index]\n",
    "                \n",
    "                # Prüfe, ob mindestens eine '1' im Bereich vor und nach der '0' ist\n",
    "                if 1 in df['anomaly'][start_index:index].values and 1 in df['anomaly'][index + 1:end_index].values:\n",
    "                    window = df['anomaly'][start_index:end_index]\n",
    "                    if window.sum() >= threshold:\n",
    "                        df.at[index, 'anomaly'] = 1\n",
    "                        count += 1\n",
    "    print('Gefüllt:', count)\n",
    "\n",
    "    return df\n",
    "\n",
    "def remove_anomalies(df, window_size=5, threshold=1):\n",
    "    count = 0\n",
    "    for index, row in df.iterrows():\n",
    "        if row['anomaly'] == 1:\n",
    "            start_index = max(index - window_size, 0)\n",
    "            end_index = min(index + window_size + 1, len(df))\n",
    "            \n",
    "            if 0 in df['anomaly'][start_index:index].values and 0 in df['anomaly'][index + 1:end_index].values:\n",
    "                window = df['anomaly'][start_index:end_index]\n",
    "                if window.sum() <= threshold:\n",
    "                    df.at[index, 'anomaly'] = 0\n",
    "                    count += 1\n",
    "    print('Entfernt:', count)\n",
    "\n",
    "    return df\n",
    "\n",
    "# Anwenden der Funktion\n"
   ]
  },
  {
   "cell_type": "code",
   "execution_count": null,
   "metadata": {},
   "outputs": [],
   "source": [
    "df_filled = fill_anomalies(df.copy(), window_size=4, threshold=4, loops=2)\n",
    "\n",
    "df_filled_removed = remove_anomalies(df_filled.copy(), window_size=5, threshold=4)\n"
   ]
  },
  {
   "cell_type": "code",
   "execution_count": null,
   "metadata": {},
   "outputs": [],
   "source": [
    "\n",
    "# Erstellen der Subplots\n",
    "parts = 38*2\n",
    "teil_groesse = len(df_filled_removed) // parts\n",
    "fig, axes = plt.subplots(parts, 3, figsize=(20, 1*parts))\n",
    "\n",
    "for i in range(parts):\n",
    "    # Auswahl des entsprechenden Teils der DataFrames\n",
    "    teil_df = df.iloc[i * teil_groesse:(i + 1) * teil_groesse]\n",
    "    teil_df_filled = df_filled.iloc[i * teil_groesse:(i + 1) * teil_groesse]\n",
    "    teil_df_filled_removed = df_filled_removed.iloc[i * teil_groesse:(i + 1) * teil_groesse]\n",
    "\n",
    "    # Erstellen der Balkendiagramme für den aktuellen Teil\n",
    "    axes[i, 0].bar(teil_df['id'], teil_df['anomaly'], width=1.0)\n",
    "    \n",
    "    axes[i, 1].bar(teil_df_filled['id'], teil_df_filled['anomaly'], width=1.0)\n",
    "\n",
    "    axes[i, 2].bar(teil_df_filled_removed['id'], teil_df_filled_removed['anomaly'], width=1.0)\n",
    "    axes[i, 0].set_ylabel('Part: ' + str(i))\n",
    "    # Setzen der Achsenbeschriftungen für alle Spalten\n",
    "    # for j in range(3):\n",
    "    #     axes[i, j].set_xlabel('ID')\n",
    "    #     axes[i, j].set_ylabel('Anomalie (1 oder 0)')\n",
    "    #     axes[i, j].set_xlim(i * teil_groesse, (i + 1) * teil_groesse)\n",
    "\n",
    "axes[0, 0].set_title(f'Original Daten Teil {i+1}')\n",
    "axes[0, 1].set_title(f'Gefüllte Daten Teil {i+1}')\n",
    "axes[0, 2].set_title(f'Gefüllte & Entfernte Daten Teil {i+1}')\n",
    "\n",
    "\n",
    "# axes[0, 0].set_xlabel('ID')\n",
    "# axes[0, 1].set_ylabel('Anomalie (1 oder 0)')\n",
    "# axes[0, 2].set_xlim(i * teil_groesse, (i + 1) * teil_groesse)\n",
    "\n",
    "# Anpassung des Layouts\n",
    "plt.tight_layout()\n",
    "\n",
    "# Anzeigen der Plots\n",
    "plt.show()\n"
   ]
  },
  {
   "cell_type": "code",
   "execution_count": null,
   "metadata": {},
   "outputs": [],
   "source": [
    "df_filled.to_csv('submission_one_step.csv', index=False)\n",
    "df_filled_removed.to_csv('submission_post.csv', index=False)"
   ]
  },
  {
   "cell_type": "code",
   "execution_count": null,
   "metadata": {},
   "outputs": [],
   "source": []
  }
 ],
 "metadata": {
  "kernelspec": {
   "display_name": "Ai Serving Grid Stability",
   "language": "python",
   "name": "ai-serving-grid-stab"
  },
  "language_info": {
   "codemirror_mode": {
    "name": "ipython",
    "version": 3
   },
   "file_extension": ".py",
   "mimetype": "text/x-python",
   "name": "python",
   "nbconvert_exporter": "python",
   "pygments_lexer": "ipython3",
   "version": "3.10.10"
  }
 },
 "nbformat": 4,
 "nbformat_minor": 2
}
